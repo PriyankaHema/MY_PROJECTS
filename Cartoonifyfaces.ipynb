{
 "cells": [
  {
   "cell_type": "code",
   "execution_count": 1,
   "id": "822754b1",
   "metadata": {},
   "outputs": [],
   "source": [
    "#pip install opencv-python\n",
    "#author : Priyanka Suresh Yadhav\n",
    "#source : any cartoon image\n",
    "#purpose : it will replace human face with cartoon characters basically masking"
   ]
  },
  {
   "cell_type": "code",
   "execution_count": 2,
   "id": "abe283f0",
   "metadata": {},
   "outputs": [],
   "source": [
    "import cv2\n",
    "import numpy as np\n",
    "import warnings"
   ]
  },
  {
   "cell_type": "code",
   "execution_count": 3,
   "id": "dcd3035f",
   "metadata": {},
   "outputs": [],
   "source": [
    "face_classifier = cv2.CascadeClassifier(cv2.data.haarcascades + \"haarcascade_frontalface_default.xml\")"
   ]
  },
  {
   "cell_type": "code",
   "execution_count": 4,
   "id": "fdd70f55",
   "metadata": {},
   "outputs": [],
   "source": [
    "video_capture = cv2.VideoCapture(0)"
   ]
  },
  {
   "cell_type": "code",
   "execution_count": 5,
   "id": "d3007086",
   "metadata": {},
   "outputs": [],
   "source": [
    "replacement_face = cv2.imread('images.png')"
   ]
  },
  {
   "cell_type": "code",
   "execution_count": 6,
   "id": "e79cda64",
   "metadata": {},
   "outputs": [],
   "source": [
    "def replace_cartoonface(vid):\n",
    "    gray = cv2.cvtColor(vid, cv2.COLOR_BGR2GRAY)\n",
    "    faces = face_classifier.detectMultiScale(gray,1.1,5,minSize=(40,40))\n",
    "    for (x, y, w, h) in faces:\n",
    "        resized_face = cv2.resize(replacement_face, (w, h))\n",
    "        vid[y:y+h, x:x+w] = resized_face\n",
    "    return faces"
   ]
  },
  {
   "cell_type": "code",
   "execution_count": 7,
   "id": "16e464c1",
   "metadata": {},
   "outputs": [],
   "source": [
    "while True:\n",
    "    results,video_frame = video_capture.read()\n",
    "    if results is False:\n",
    "        break\n",
    "    faces = replace_cartoonface(video_frame)\n",
    "    cv2.imshow(\"My Face\",video_frame)\n",
    "    if cv2.waitKey(1) & 0xFF == ord(\"q\"):\n",
    "        break\n",
    "        \n",
    "video_capture.release()\n",
    "cv2.destroyAllWindows()"
   ]
  }
 ],
 "metadata": {
  "kernelspec": {
   "display_name": "Python 3 (ipykernel)",
   "language": "python",
   "name": "python3"
  },
  "language_info": {
   "codemirror_mode": {
    "name": "ipython",
    "version": 3
   },
   "file_extension": ".py",
   "mimetype": "text/x-python",
   "name": "python",
   "nbconvert_exporter": "python",
   "pygments_lexer": "ipython3",
   "version": "3.11.4"
  }
 },
 "nbformat": 4,
 "nbformat_minor": 5
}
